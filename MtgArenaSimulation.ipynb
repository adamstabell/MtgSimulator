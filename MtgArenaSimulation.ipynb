{
 "cells": [
  {
   "cell_type": "code",
   "execution_count": 5,
   "metadata": {},
   "outputs": [],
   "source": [
    "import random"
   ]
  },
  {
   "cell_type": "code",
   "execution_count": 23,
   "metadata": {},
   "outputs": [
    {
     "data": {
      "text/plain": [
       "['swamp',\n",
       " 'swamp',\n",
       " 'swamp',\n",
       " 'swamp',\n",
       " 'swamp',\n",
       " 'swamp',\n",
       " 'swamp',\n",
       " 'swamp',\n",
       " 'semblance',\n",
       " 'other',\n",
       " 'other',\n",
       " 'other',\n",
       " 'other',\n",
       " 'other',\n",
       " 'other',\n",
       " 'other',\n",
       " 'other',\n",
       " 'other',\n",
       " 'other',\n",
       " 'other',\n",
       " 'other',\n",
       " 'other',\n",
       " 'other',\n",
       " 'other',\n",
       " 'other',\n",
       " 'other',\n",
       " 'other',\n",
       " 'other',\n",
       " 'other',\n",
       " 'other',\n",
       " 'other',\n",
       " 'other',\n",
       " 'other',\n",
       " 'other',\n",
       " 'other',\n",
       " 'other',\n",
       " 'other',\n",
       " 'other',\n",
       " 'other',\n",
       " 'other',\n",
       " 'other',\n",
       " 'other',\n",
       " 'other',\n",
       " 'other',\n",
       " 'other',\n",
       " 'other',\n",
       " 'other',\n",
       " 'other',\n",
       " 'other',\n",
       " 'other',\n",
       " 'other',\n",
       " 'other',\n",
       " 'other',\n",
       " 'other',\n",
       " 'other',\n",
       " 'other',\n",
       " 'other',\n",
       " 'other',\n",
       " 'Ritual',\n",
       " 'Ritual']"
      ]
     },
     "execution_count": 23,
     "metadata": {},
     "output_type": "execute_result"
    }
   ],
   "source": [
    "swamps = ['swamp'] * 8\n",
    "swamps.append('semblance')\n",
    "ritual = ['Ritual'] * 2\n",
    "other = ['other'] * 49\n",
    "deck = swamps + other + ritual\n",
    "deck"
   ]
  },
  {
   "cell_type": "code",
   "execution_count": 362,
   "metadata": {},
   "outputs": [],
   "source": [
    "# Python code to count the number of occurrences https://www.geeksforgeeks.org/python-count-occurrences-element-list/\n",
    "def countX(lst, x):\n",
    "    count = 0\n",
    "    for ele in lst:\n",
    "        if (ele == x):\n",
    "            count = count + 1\n",
    "    return count\n",
    " \n",
    "def DrawHand(deck, numDraws):\n",
    "    turn_1_win = 0\n",
    "    no_turn_1_win = 0\n",
    "    numSwamps = countX(deck, 'swamp')\n",
    "    perc_swamps = numSwamps / len(deck)\n",
    "    swamps_in_hand = perc_swamps * 7\n",
    "    print(swamps_in_hand)\n",
    "    for d in range(numDraws):\n",
    "        sample1 = random.sample(deck, 7)\n",
    "        sample2 = random.sample(deck, 7)\n",
    "        swamp_count1 = 0\n",
    "        swamp_count2 = 0\n",
    "        for s in sample1:\n",
    "            if s == 'swamp':\n",
    "                swamp_count1 += 1\n",
    "        for s in sample2:\n",
    "            if s == 'swamp':\n",
    "                swamp_count2 += 1\n",
    "        if abs(swamp_count1 - swamps_in_hand) <= abs(swamp_count2 - swamps_in_hand):\n",
    "            semblance_count = countX(sample1, 'semblance')\n",
    "            ritual_count = countX(sample1, 'Ritual')\n",
    "            if semblance_count == 1 and ritual_count == 1 and swamp_count1 == 1:\n",
    "                turn_1_win += 1\n",
    "            else:\n",
    "                no_turn_1_win += 1\n",
    "        else:\n",
    "            semblance_count = countX(sample2, 'semblance')\n",
    "            ritual_count = countX(sample2, 'Ritual')\n",
    "            if semblance_count == 1 and ritual_count == 1 and swamp_count2 == 1:\n",
    "                turn_1_win += 1\n",
    "            else:\n",
    "                no_turn_1_win += 1\n",
    "    win_rate = turn_1_win / (no_turn_1_win + turn_1_win)\n",
    "    return win_rate, turn_1_win, no_turn_1_win"
   ]
  },
  {
   "cell_type": "code",
   "execution_count": 336,
   "metadata": {},
   "outputs": [
    {
     "data": {
      "text/plain": [
       "(0.02147, 2147, 97853)"
      ]
     },
     "execution_count": 336,
     "metadata": {},
     "output_type": "execute_result"
    }
   ],
   "source": [
    "DrawHand(deck, 100000)"
   ]
  },
  {
   "cell_type": "code",
   "execution_count": 337,
   "metadata": {},
   "outputs": [
    {
     "data": {
      "text/plain": [
       "(0.0223, 2230, 97770)"
      ]
     },
     "execution_count": 337,
     "metadata": {},
     "output_type": "execute_result"
    }
   ],
   "source": [
    "DrawHand(deck, 100000)"
   ]
  },
  {
   "cell_type": "code",
   "execution_count": 176,
   "metadata": {},
   "outputs": [
    {
     "data": {
      "text/plain": [
       "0.02164"
      ]
     },
     "execution_count": 176,
     "metadata": {},
     "output_type": "execute_result"
    }
   ],
   "source": [
    "DrawHand(deck, 100000)"
   ]
  },
  {
   "cell_type": "code",
   "execution_count": 177,
   "metadata": {},
   "outputs": [
    {
     "data": {
      "text/plain": [
       "0.02233"
      ]
     },
     "execution_count": 177,
     "metadata": {},
     "output_type": "execute_result"
    }
   ],
   "source": [
    "DrawHand(deck, 100000)"
   ]
  },
  {
   "cell_type": "code",
   "execution_count": 178,
   "metadata": {},
   "outputs": [
    {
     "data": {
      "text/plain": [
       "0.02149"
      ]
     },
     "execution_count": 178,
     "metadata": {},
     "output_type": "execute_result"
    }
   ],
   "source": [
    "DrawHand(deck, 100000)"
   ]
  },
  {
   "cell_type": "code",
   "execution_count": 181,
   "metadata": {},
   "outputs": [
    {
     "data": {
      "text/plain": [
       "0.021665999999999998"
      ]
     },
     "execution_count": 181,
     "metadata": {},
     "output_type": "execute_result"
    }
   ],
   "source": [
    "(0.02096+0.02191+0.02164+0.02233+0.02149) / 5"
   ]
  },
  {
   "cell_type": "code",
   "execution_count": 348,
   "metadata": {},
   "outputs": [],
   "source": [
    "swamps = ['swamp'] * 8\n",
    "semblance = ['semblance'] * 2\n",
    "ritual = ['Ritual'] * 2\n",
    "main_cards = swamps + semblance + ritual\n",
    "other = ['other'] * (60 - len(main_cards))\n",
    "deck2 = main_cards + other"
   ]
  },
  {
   "cell_type": "code",
   "execution_count": 357,
   "metadata": {},
   "outputs": [
    {
     "name": "stdout",
     "output_type": "stream",
     "text": [
      "0.9333333333333333\n"
     ]
    },
    {
     "data": {
      "text/plain": [
       "(0.04177, 20885, 479115)"
      ]
     },
     "execution_count": 357,
     "metadata": {},
     "output_type": "execute_result"
    }
   ],
   "source": [
    "DrawHand(deck2, 500000)"
   ]
  },
  {
   "cell_type": "code",
   "execution_count": 346,
   "metadata": {},
   "outputs": [],
   "source": [
    "swamps = ['swamp'] * 8\n",
    "semblance = ['semblance'] * 24\n",
    "ritual = ['Ritual'] * 24\n",
    "main_cards = swamps + semblance + ritual\n",
    "other = ['other'] * (60 - len(main_cards))\n",
    "deck2 = main_cards + other"
   ]
  },
  {
   "cell_type": "code",
   "execution_count": 347,
   "metadata": {},
   "outputs": [
    {
     "data": {
      "text/plain": [
       "(0.000146, 73, 499927)"
      ]
     },
     "execution_count": 347,
     "metadata": {},
     "output_type": "execute_result"
    }
   ],
   "source": [
    "DrawHand(deck2, 500000)"
   ]
  },
  {
   "cell_type": "code",
   "execution_count": 364,
   "metadata": {},
   "outputs": [],
   "source": [
    "swamps = ['swamp'] * 6\n",
    "semblance = ['semblance'] * 1\n",
    "ritual = ['Ritual'] * 1\n",
    "main_cards = swamps + semblance + ritual\n",
    "other = ['other'] * (40 - len(main_cards))\n",
    "brawl_deck = main_cards + other"
   ]
  },
  {
   "cell_type": "code",
   "execution_count": 365,
   "metadata": {},
   "outputs": [
    {
     "name": "stdout",
     "output_type": "stream",
     "text": [
      "1.05\n"
     ]
    },
    {
     "data": {
      "text/plain": [
       "(0.01768, 884, 49116)"
      ]
     },
     "execution_count": 365,
     "metadata": {},
     "output_type": "execute_result"
    }
   ],
   "source": [
    "DrawHand(brawl_deck, 50000)"
   ]
  },
  {
   "cell_type": "code",
   "execution_count": 1,
   "metadata": {},
   "outputs": [
    {
     "data": {
      "text/plain": [
       "60"
      ]
     },
     "execution_count": 1,
     "metadata": {},
     "output_type": "execute_result"
    }
   ],
   "source": [
    "swamps = ['swamp'] * 13\n",
    "semblance = ['semblance'] * 2\n",
    "artifacts = ['aetherflux'] * 2 + ['forge'] * 4 + ['mana_rock'] * 8 + ['artifact_draw'] * 31\n",
    "deck2 = swamps + semblance + artifacts\n",
    "len(deck2)\n"
   ]
  },
  {
   "cell_type": "markdown",
   "metadata": {},
   "source": [
    "The pseudo code for the simulation.\n",
    "\n",
    "We will make a class for the board itself. The board keeps track of cards played.\n",
    "We will make classes for the different card types. Each card type will have a cost\n",
    "\n",
    "We will make a function that starts the game called startGame.\n",
    "The startGame function takes a deck of cards as an arguement.\n",
    "instantiates a class of type board\n"
   ]
  },
  {
   "cell_type": "code",
   "execution_count": 63,
   "metadata": {},
   "outputs": [],
   "source": [
    "class board:\n",
    "    def __init__(self, deck):\n",
    "        self.deck = deck\n",
    "        self.available_mana = 0\n",
    "        self.land_played = False\n",
    "        self.mana_used = 0\n",
    "        self.spells_cast = 0\n",
    "        self.life_total = 20\n",
    "        self.hand = deck[0:7]\n",
    "        self.cards_drawn = 7\n",
    "        self.cost_reduction = 0\n",
    "        self.semblance_played = False\n",
    "        self.forge_played = False\n",
    "        self.aetherflux_played = False\n",
    "        self.turn = 1\n",
    "        self.played_cards = []\n",
    "        \n",
    "    def endTurn(self):\n",
    "        self.land_played = False\n",
    "        self.mana_used = 0\n",
    "        self.spells_cast = 0\n",
    "    \n",
    "    def playLand(self):\n",
    "        for i in range(len(self.hand)):\n",
    "            if self.hand[i] == 'swamp':\n",
    "                if self.land_played == False:\n",
    "                    self.available_mana += 1\n",
    "                    self.land_played = True\n",
    "                    self.played_cards.append(i)                   \n",
    "        for c in self.played_cards:\n",
    "            del self.hand[c]\n",
    "        self.played_cards = []\n",
    "            \n",
    "    def drawCard(self):\n",
    "        self.hand.append(self.deck[self.cards_drawn])\n",
    "        self.cards_drawn += 1\n",
    "        \n",
    "    def playManaRock(self):\n",
    "        for i in range(len(self.hand)): # Look through each card in your hand\n",
    "            print(i)\n",
    "            if self.hand[i] == 'mana_rock': # If this card is a mana rock then...\n",
    "                if self.available_mana - self.mana_used >= 2 - self.cost_reduction:\n",
    "                    self.mana_used += 2 - self.cost_reduction\n",
    "                    self.spells_cast += 1\n",
    "                    self.played_cards.append(i)                   \n",
    "                    if self.aetherflux_played == True:\n",
    "                        self.life_total += self.spells_cast\n",
    "                        if self.life_total > 50:\n",
    "                            break\n",
    "        for c in self.played_cards:\n",
    "            del self.hand[c]\n",
    "        self.played_cards = []            \n",
    "    def playArtifactDraw(self):\n",
    "        for i in range(len(self.hand)):\n",
    "            if self.hand[i] == 'artifact_draw':\n",
    "                if self.available_mana - self.mana_used >= 2 - self.cost_reduction:\n",
    "                    self.mana_used += 2 - self.cost_reduction\n",
    "                    self.spells_cast += 1\n",
    "                    del self.hand[i]\n",
    "                    self.played_cards.append(i)                   \n",
    "                    if self.aetherflux_played == True:\n",
    "                        self.life_total += self.spells_cast\n",
    "                        if self.life_total > 50:\n",
    "                            break\n",
    "        for c in self.played_cards:\n",
    "            del self.hand[c]        \n",
    "        self.played_cards = []\n",
    "        self.drawCard()\n",
    "                    \n",
    "    def playSemblance(self):\n",
    "        for i in range(len(self.hand)):\n",
    "            if self.hand[i] == 'semblance':\n",
    "                if self.available_mana - self.mana_used >= 3 - self.cost_reduction:\n",
    "                    self.mana_used += 3 - self.cost_reduction\n",
    "                    self.spells_cast += 1\n",
    "                    del self.hand[i]\n",
    "                    self.played_cards.append(i)                   \n",
    "                    self.cost_reduction += 2\n",
    "                    self.semblance_played == True\n",
    "                    if self.aetherflux_played == True:\n",
    "                        self.life_total += self.spells_cast\n",
    "                        if self.life_total > 50:\n",
    "                            break\n",
    "        for c in self.played_cards:\n",
    "            del self.hand[c]        \n",
    "        self.played_cards = []\n",
    "    def playForge(self):\n",
    "        pass\n",
    "    def playAetherflux(self):\n",
    "        for i in range(len(self.hand)):\n",
    "            if self.hand[i] == 'aetherflux':\n",
    "                if self.available_mana - self.mana_used >= 4 - self.cost_reduction:\n",
    "                    self.mana_used += 4 - self.cost_reduction\n",
    "                    self.spells_cast += 1\n",
    "                    del self.hand[i]\n",
    "                    self.played_cards.append(i)                   \n",
    "                    self.aetherflux_played = True\n",
    "        for c in self.played_cards:\n",
    "            del self.hand[c]        \n",
    "        self.played_cards = []"
   ]
  },
  {
   "cell_type": "code",
   "execution_count": 65,
   "metadata": {},
   "outputs": [],
   "source": [
    "def playGame(deck):\n",
    "    won = False\n",
    "    shuffled_deck = random.sample(deck, 60)\n",
    "    game_board = board(shuffled_deck)\n",
    "    while won == False:\n",
    "        game_board.drawCard()\n",
    "        game_board.playLand()\n",
    "        if game_board.semblance_played == True and game_board.forge_played == True and game_board.aetherflux_played == True:\n",
    "            game_board.playArtifactDraw()\n",
    "            game_board.playManaRock()\n",
    "            game_board.endTurn()\n",
    "            \n",
    "        elif game_board.forge_played == True and game_board.aetherflux_played == True:\n",
    "            game_board.playSemblance()\n",
    "            game_board.playManaRock()\n",
    "            game_board.playArtifactDraw()\n",
    "            game_board.endTurn()\n",
    "                \n",
    "        elif game_board.forge_played == True and game_board.semblance_played == True:\n",
    "            game_board.playArtifactDraw()\n",
    "            game_board.playManaRock()\n",
    "            game_board.endTurn()\n",
    "\n",
    "        elif game_board.semblance_played == True and game_board.aetherflux_played == True:\n",
    "            game_board.playArtifactDraw()\n",
    "            game_board.playManaRock()\n",
    "            game_board.endTurn()\n",
    "\n",
    "        elif game_board.forge_played == True:\n",
    "            game_board.playSemblance()\n",
    "            game_board.playManaRock()\n",
    "            game_board.playArtifactDraw()\n",
    "            game_board.endTurn()\n",
    "            \n",
    "        elif game_board.aetherflux_played == True:\n",
    "            game_board.playSemblance()\n",
    "            game_board.playManaRock()\n",
    "            game_board.playArtifactDraw()\n",
    "            game_board.endTurn()\n",
    "            \n",
    "        elif game_board.semblance_played == True:\n",
    "            game_board.playAetherflux()\n",
    "            game_board.playArtifactDraw()\n",
    "            game_board.playManaRock()\n",
    "            game_board.endTurn()\n",
    "            \n",
    "        else:\n",
    "            game_board.playSemblance()\n",
    "            game_board.playAetherflux()\n",
    "            game_board.playManaRock()\n",
    "            game_board.playArtifactDraw()\n",
    "            game_board.endTurn()\n",
    "            \n",
    "        if game_board.life_total > 50:\n",
    "            won = True\n",
    "        game_board.turn += 1\n",
    "        print(f'Starting turn {game_board.turn}')\n",
    "        print(f'Hand is: {game_board.hand}')\n",
    "        print(f'Available Mana: {game_board.available_mana}')\n",
    "    print(f'Game Stats: Won on turn {game_board.turn} and drew {game_board.cards_drawn} cards.')\n"
   ]
  },
  {
   "cell_type": "code",
   "execution_count": 66,
   "metadata": {},
   "outputs": [
    {
     "name": "stdout",
     "output_type": "stream",
     "text": [
      "0\n",
      "1\n",
      "2\n",
      "3\n",
      "4\n",
      "5\n",
      "6\n",
      "Starting turn 2\n",
      "Hand is: ['artifact_draw', 'artifact_draw', 'mana_rock', 'artifact_draw', 'artifact_draw', 'artifact_draw', 'artifact_draw', 'artifact_draw']\n",
      "Available Mana: 1\n",
      "0\n",
      "1\n",
      "2\n",
      "3\n",
      "4\n",
      "5\n",
      "6\n",
      "7\n",
      "8\n",
      "Starting turn 3\n",
      "Hand is: ['artifact_draw', 'artifact_draw', 'mana_rock', 'artifact_draw', 'artifact_draw', 'artifact_draw', 'artifact_draw', 'artifact_draw', 'artifact_draw', 'artifact_draw']\n",
      "Available Mana: 1\n",
      "0\n",
      "1\n",
      "2\n",
      "3\n",
      "4\n",
      "5\n",
      "6\n",
      "7\n",
      "8\n",
      "9\n",
      "10\n",
      "Starting turn 4\n",
      "Hand is: ['artifact_draw', 'artifact_draw', 'mana_rock', 'artifact_draw', 'artifact_draw', 'artifact_draw', 'artifact_draw', 'artifact_draw', 'artifact_draw', 'artifact_draw', 'artifact_draw', 'artifact_draw']\n",
      "Available Mana: 1\n",
      "0\n",
      "1\n",
      "2\n",
      "3\n",
      "4\n",
      "5\n",
      "6\n",
      "7\n",
      "8\n",
      "9\n",
      "10\n",
      "11\n",
      "12\n",
      "Starting turn 5\n",
      "Hand is: ['artifact_draw', 'artifact_draw', 'mana_rock', 'artifact_draw', 'artifact_draw', 'artifact_draw', 'artifact_draw', 'artifact_draw', 'artifact_draw', 'artifact_draw', 'artifact_draw', 'artifact_draw', 'artifact_draw', 'mana_rock']\n",
      "Available Mana: 1\n",
      "0\n",
      "1\n",
      "2\n",
      "3\n",
      "4\n",
      "5\n",
      "6\n",
      "7\n",
      "8\n",
      "9\n",
      "10\n",
      "11\n",
      "12\n",
      "13\n",
      "14\n",
      "Starting turn 6\n",
      "Hand is: ['artifact_draw', 'artifact_draw', 'mana_rock', 'artifact_draw', 'artifact_draw', 'artifact_draw', 'artifact_draw', 'artifact_draw', 'artifact_draw', 'artifact_draw', 'artifact_draw', 'artifact_draw', 'artifact_draw', 'mana_rock', 'aetherflux', 'forge']\n",
      "Available Mana: 1\n",
      "0\n",
      "1\n",
      "2\n",
      "3\n",
      "4\n",
      "5\n",
      "6\n",
      "7\n",
      "8\n",
      "9\n",
      "10\n",
      "11\n",
      "12\n",
      "13\n",
      "14\n",
      "15\n",
      "Starting turn 7\n",
      "Hand is: ['artifact_draw', 'artifact_draw', 'artifact_draw', 'artifact_draw', 'artifact_draw', 'artifact_draw', 'artifact_draw', 'artifact_draw', 'artifact_draw', 'artifact_draw', 'artifact_draw', 'artifact_draw', 'mana_rock', 'aetherflux', 'forge', 'artifact_draw']\n",
      "Available Mana: 2\n",
      "0\n",
      "1\n",
      "2\n",
      "3\n",
      "4\n",
      "5\n",
      "6\n",
      "7\n",
      "8\n",
      "9\n",
      "10\n",
      "11\n",
      "12\n",
      "13\n",
      "14\n",
      "15\n",
      "Starting turn 8\n",
      "Hand is: ['artifact_draw', 'artifact_draw', 'artifact_draw', 'artifact_draw', 'artifact_draw', 'artifact_draw', 'artifact_draw', 'artifact_draw', 'artifact_draw', 'artifact_draw', 'artifact_draw', 'artifact_draw', 'aetherflux', 'forge', 'artifact_draw', 'artifact_draw']\n",
      "Available Mana: 3\n",
      "0\n",
      "1\n",
      "2\n",
      "3\n",
      "4\n",
      "5\n",
      "6\n",
      "7\n",
      "8\n",
      "9\n",
      "10\n",
      "11\n",
      "12\n",
      "13\n",
      "14\n",
      "15\n",
      "16\n"
     ]
    },
    {
     "ename": "IndexError",
     "evalue": "list index out of range",
     "output_type": "error",
     "traceback": [
      "\u001b[1;31m---------------------------------------------------------------------------\u001b[0m",
      "\u001b[1;31mIndexError\u001b[0m                                Traceback (most recent call last)",
      "\u001b[1;32m<ipython-input-66-1c63cd2711e6>\u001b[0m in \u001b[0;36m<module>\u001b[1;34m\u001b[0m\n\u001b[1;32m----> 1\u001b[1;33m \u001b[0mplayGame\u001b[0m\u001b[1;33m(\u001b[0m\u001b[0mdeck2\u001b[0m\u001b[1;33m)\u001b[0m\u001b[1;33m\u001b[0m\u001b[1;33m\u001b[0m\u001b[0m\n\u001b[0m",
      "\u001b[1;32m<ipython-input-65-f53162f87265>\u001b[0m in \u001b[0;36mplayGame\u001b[1;34m(deck)\u001b[0m\n\u001b[0;32m     49\u001b[0m             \u001b[0mgame_board\u001b[0m\u001b[1;33m.\u001b[0m\u001b[0mplayAetherflux\u001b[0m\u001b[1;33m(\u001b[0m\u001b[1;33m)\u001b[0m\u001b[1;33m\u001b[0m\u001b[1;33m\u001b[0m\u001b[0m\n\u001b[0;32m     50\u001b[0m             \u001b[0mgame_board\u001b[0m\u001b[1;33m.\u001b[0m\u001b[0mplayManaRock\u001b[0m\u001b[1;33m(\u001b[0m\u001b[1;33m)\u001b[0m\u001b[1;33m\u001b[0m\u001b[1;33m\u001b[0m\u001b[0m\n\u001b[1;32m---> 51\u001b[1;33m             \u001b[0mgame_board\u001b[0m\u001b[1;33m.\u001b[0m\u001b[0mplayArtifactDraw\u001b[0m\u001b[1;33m(\u001b[0m\u001b[1;33m)\u001b[0m\u001b[1;33m\u001b[0m\u001b[1;33m\u001b[0m\u001b[0m\n\u001b[0m\u001b[0;32m     52\u001b[0m             \u001b[0mgame_board\u001b[0m\u001b[1;33m.\u001b[0m\u001b[0mendTurn\u001b[0m\u001b[1;33m(\u001b[0m\u001b[1;33m)\u001b[0m\u001b[1;33m\u001b[0m\u001b[1;33m\u001b[0m\u001b[0m\n\u001b[0;32m     53\u001b[0m \u001b[1;33m\u001b[0m\u001b[0m\n",
      "\u001b[1;32m<ipython-input-63-554e4fdcf7a2>\u001b[0m in \u001b[0;36mplayArtifactDraw\u001b[1;34m(self)\u001b[0m\n\u001b[0;32m     53\u001b[0m     \u001b[1;32mdef\u001b[0m \u001b[0mplayArtifactDraw\u001b[0m\u001b[1;33m(\u001b[0m\u001b[0mself\u001b[0m\u001b[1;33m)\u001b[0m\u001b[1;33m:\u001b[0m\u001b[1;33m\u001b[0m\u001b[1;33m\u001b[0m\u001b[0m\n\u001b[0;32m     54\u001b[0m         \u001b[1;32mfor\u001b[0m \u001b[0mi\u001b[0m \u001b[1;32min\u001b[0m \u001b[0mrange\u001b[0m\u001b[1;33m(\u001b[0m\u001b[0mlen\u001b[0m\u001b[1;33m(\u001b[0m\u001b[0mself\u001b[0m\u001b[1;33m.\u001b[0m\u001b[0mhand\u001b[0m\u001b[1;33m)\u001b[0m\u001b[1;33m)\u001b[0m\u001b[1;33m:\u001b[0m\u001b[1;33m\u001b[0m\u001b[1;33m\u001b[0m\u001b[0m\n\u001b[1;32m---> 55\u001b[1;33m             \u001b[1;32mif\u001b[0m \u001b[0mself\u001b[0m\u001b[1;33m.\u001b[0m\u001b[0mhand\u001b[0m\u001b[1;33m[\u001b[0m\u001b[0mi\u001b[0m\u001b[1;33m]\u001b[0m \u001b[1;33m==\u001b[0m \u001b[1;34m'artifact_draw'\u001b[0m\u001b[1;33m:\u001b[0m\u001b[1;33m\u001b[0m\u001b[1;33m\u001b[0m\u001b[0m\n\u001b[0m\u001b[0;32m     56\u001b[0m                 \u001b[1;32mif\u001b[0m \u001b[0mself\u001b[0m\u001b[1;33m.\u001b[0m\u001b[0mavailable_mana\u001b[0m \u001b[1;33m-\u001b[0m \u001b[0mself\u001b[0m\u001b[1;33m.\u001b[0m\u001b[0mmana_used\u001b[0m \u001b[1;33m>=\u001b[0m \u001b[1;36m2\u001b[0m \u001b[1;33m-\u001b[0m \u001b[0mself\u001b[0m\u001b[1;33m.\u001b[0m\u001b[0mcost_reduction\u001b[0m\u001b[1;33m:\u001b[0m\u001b[1;33m\u001b[0m\u001b[1;33m\u001b[0m\u001b[0m\n\u001b[0;32m     57\u001b[0m                     \u001b[0mself\u001b[0m\u001b[1;33m.\u001b[0m\u001b[0mmana_used\u001b[0m \u001b[1;33m+=\u001b[0m \u001b[1;36m2\u001b[0m \u001b[1;33m-\u001b[0m \u001b[0mself\u001b[0m\u001b[1;33m.\u001b[0m\u001b[0mcost_reduction\u001b[0m\u001b[1;33m\u001b[0m\u001b[1;33m\u001b[0m\u001b[0m\n",
      "\u001b[1;31mIndexError\u001b[0m: list index out of range"
     ]
    }
   ],
   "source": [
    "playGame(deck2)"
   ]
  },
  {
   "cell_type": "code",
   "execution_count": 28,
   "metadata": {},
   "outputs": [],
   "source": [
    "game = board(deck2)"
   ]
  },
  {
   "cell_type": "code",
   "execution_count": 31,
   "metadata": {},
   "outputs": [],
   "source": [
    "game.drawCard()"
   ]
  },
  {
   "cell_type": "code",
   "execution_count": 57,
   "metadata": {},
   "outputs": [
    {
     "data": {
      "text/plain": [
       "['swamp', 'swamp', 'swamp']"
      ]
     },
     "execution_count": 57,
     "metadata": {},
     "output_type": "execute_result"
    }
   ],
   "source": [
    "game.hand\n",
    "game.land_played = False\n",
    "game.playLand()\n",
    "game.hand"
   ]
  },
  {
   "cell_type": "code",
   "execution_count": 58,
   "metadata": {},
   "outputs": [
    {
     "ename": "IndexError",
     "evalue": "list assignment index out of range",
     "output_type": "error",
     "traceback": [
      "\u001b[1;31m---------------------------------------------------------------------------\u001b[0m",
      "\u001b[1;31mIndexError\u001b[0m                                Traceback (most recent call last)",
      "\u001b[1;32m<ipython-input-58-2bde3ae0e2ad>\u001b[0m in \u001b[0;36m<module>\u001b[1;34m\u001b[0m\n\u001b[1;32m----> 1\u001b[1;33m \u001b[1;32mdel\u001b[0m \u001b[0mgame\u001b[0m\u001b[1;33m.\u001b[0m\u001b[0mhand\u001b[0m\u001b[1;33m[\u001b[0m\u001b[1;36m3\u001b[0m\u001b[1;33m]\u001b[0m\u001b[1;33m\u001b[0m\u001b[1;33m\u001b[0m\u001b[0m\n\u001b[0m",
      "\u001b[1;31mIndexError\u001b[0m: list assignment index out of range"
     ]
    }
   ],
   "source": [
    "del game.hand[3]"
   ]
  },
  {
   "cell_type": "code",
   "execution_count": null,
   "metadata": {},
   "outputs": [],
   "source": []
  }
 ],
 "metadata": {
  "kernelspec": {
   "display_name": "Python 3",
   "language": "python",
   "name": "python3"
  },
  "language_info": {
   "codemirror_mode": {
    "name": "ipython",
    "version": 3
   },
   "file_extension": ".py",
   "mimetype": "text/x-python",
   "name": "python",
   "nbconvert_exporter": "python",
   "pygments_lexer": "ipython3",
   "version": "3.8.5"
  }
 },
 "nbformat": 4,
 "nbformat_minor": 4
}
